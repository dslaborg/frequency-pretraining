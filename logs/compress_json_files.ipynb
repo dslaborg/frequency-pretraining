{
 "cells": [
  {
   "cell_type": "code",
   "id": "initial_id",
   "metadata": {
    "collapsed": true,
    "ExecuteTime": {
     "end_time": "2024-10-23T09:05:50.851938Z",
     "start_time": "2024-10-23T09:05:46.566716Z"
    }
   },
   "source": [
    "# find all json files in all subdirectories recursively\n",
    "# compress the json files by removing the white spaces\n",
    "\n",
    "import os\n",
    "import json\n",
    "\n",
    "def compress_json_files(directory):\n",
    "    for root, dirs, files in os.walk(directory):\n",
    "        for file in files:\n",
    "            if file.endswith('.json'):\n",
    "                file_path = os.path.join(root, file)\n",
    "                with open(file_path, 'r') as f:\n",
    "                    data = json.load(f)\n",
    "                with open(file_path, 'w') as f:\n",
    "                    json.dump(data, f, separators=(',', ':'))\n",
    "                    \n",
    "compress_json_files('.')"
   ],
   "outputs": [],
   "execution_count": 1
  }
 ],
 "metadata": {
  "kernelspec": {
   "display_name": "Python 3",
   "language": "python",
   "name": "python3"
  },
  "language_info": {
   "codemirror_mode": {
    "name": "ipython",
    "version": 2
   },
   "file_extension": ".py",
   "mimetype": "text/x-python",
   "name": "python",
   "nbconvert_exporter": "python",
   "pygments_lexer": "ipython2",
   "version": "2.7.6"
  }
 },
 "nbformat": 4,
 "nbformat_minor": 5
}
